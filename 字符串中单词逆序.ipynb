{
 "cells": [
  {
   "cell_type": "markdown",
   "metadata": {},
   "source": [
    "问题描述：输入一个句子，只对句子中的单词逆序\n",
    "\n",
    "Ex：I have a dream\n",
    "\n",
    "output: I evah a maerd"
   ]
  },
  {
   "cell_type": "code",
   "execution_count": 1,
   "metadata": {},
   "outputs": [
    {
     "name": "stdout",
     "output_type": "stream",
     "text": [
      "请输入一个句子：I have a dream\n",
      "I evah a maerd\n"
     ]
    }
   ],
   "source": [
    "class Solution(object):\n",
    "    def reverseWords(self,sentence):\n",
    "        return ' '.join(x[::-1] for x in sentence.split(' '))\n",
    "    \n",
    "s = Solution()\n",
    "sentence = input('请输入一个句子：')\n",
    "print(s.reverseWords(sentence))"
   ]
  },
  {
   "cell_type": "code",
   "execution_count": 2,
   "metadata": {},
   "outputs": [
    {
     "name": "stdout",
     "output_type": "stream",
     "text": [
      "请输入一个句子：I have a dream\n",
      "I evah a maerd\n"
     ]
    }
   ],
   "source": [
    "class Solution(object):\n",
    "    def reverseWords(self,sentence):\n",
    "        st_list = sentence.split(' ')\n",
    "        res = []\n",
    "        for word in st_list:\n",
    "            word = word[::-1]\n",
    "            res.append(''.join(word))\n",
    "        return ' '.join(res)\n",
    "\n",
    "    \n",
    "s = Solution()\n",
    "sentence = input('请输入一个句子：')\n",
    "print(s.reverseWords(sentence))  "
   ]
  },
  {
   "cell_type": "code",
   "execution_count": 3,
   "metadata": {},
   "outputs": [
    {
     "name": "stdout",
     "output_type": "stream",
     "text": [
      "请输入一个句子：I have a dream\n",
      "I evah a maerd\n"
     ]
    }
   ],
   "source": [
    "class Solution(object):\n",
    "    def reverseWords(self,sentence):\n",
    "        sList = sentence.split(' ')\n",
    "        res = []\n",
    "        for word in sList:\n",
    "            word = list(word)\n",
    "            if len(word)%2 == 0:\n",
    "                sw = len(word)//2\n",
    "            else:\n",
    "                sw = (len(word)-1)//2\n",
    "            for i in range(sw):\n",
    "                word[i],word[len(word)-i-1] = word[len(word)-i-1],word[i]\n",
    "            res.append(''.join(word))\n",
    "        return ' '.join(res)\n",
    "    \n",
    "s = Solution()\n",
    "sentence = input('请输入一个句子：')\n",
    "print(s.reverseWords(sentence))    "
   ]
  },
  {
   "cell_type": "code",
   "execution_count": null,
   "metadata": {},
   "outputs": [],
   "source": []
  }
 ],
 "metadata": {
  "kernelspec": {
   "display_name": "Python 3",
   "language": "python",
   "name": "python3"
  },
  "language_info": {
   "codemirror_mode": {
    "name": "ipython",
    "version": 3
   },
   "file_extension": ".py",
   "mimetype": "text/x-python",
   "name": "python",
   "nbconvert_exporter": "python",
   "pygments_lexer": "ipython3",
   "version": "3.6.4"
  }
 },
 "nbformat": 4,
 "nbformat_minor": 2
}
