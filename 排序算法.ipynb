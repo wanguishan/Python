{
 "cells": [
  {
   "cell_type": "code",
   "execution_count": 18,
   "metadata": {},
   "outputs": [],
   "source": [
    "import random"
   ]
  },
  {
   "cell_type": "code",
   "execution_count": 33,
   "metadata": {},
   "outputs": [
    {
     "name": "stdout",
     "output_type": "stream",
     "text": [
      "[66, 90, 5, 14, 59, 71, 39, 93, 18, 28]\n"
     ]
    }
   ],
   "source": [
    "random_list = []\n",
    "for i in range(0,10):\n",
    "    random_list.append(random.randint(1,100))\n",
    "print(random_list)"
   ]
  },
  {
   "cell_type": "markdown",
   "metadata": {},
   "source": [
    "### 冒泡排序"
   ]
  },
  {
   "cell_type": "code",
   "execution_count": 27,
   "metadata": {},
   "outputs": [
    {
     "name": "stdout",
     "output_type": "stream",
     "text": [
      "[20, 25, 28, 31, 40, 60, 62, 66, 79, 83]\n"
     ]
    }
   ],
   "source": [
    "count = len(random_list)\n",
    "for i in range(0,count):\n",
    "    for j in range(i+1,count):\n",
    "        if random_list[i] > random_list[j]:\n",
    "            random_list[i],random_list[j] = random_list[j],random_list[i]\n",
    "print(random_list)"
   ]
  },
  {
   "cell_type": "markdown",
   "metadata": {},
   "source": [
    "### 快速排序"
   ]
  },
  {
   "cell_type": "code",
   "execution_count": 31,
   "metadata": {},
   "outputs": [
    {
     "name": "stdout",
     "output_type": "stream",
     "text": [
      "[18, 29, 30, 38, 54, 73, 77, 82, 84, 87]\n"
     ]
    }
   ],
   "source": [
    "def quick_sort(list):\n",
    "    less = []\n",
    "    pivotList = []\n",
    "    more = []\n",
    "    # 递归出口\n",
    "    if len(list) <= 1:\n",
    "        return list\n",
    "    else:\n",
    "        # 将第一个值做为基准\n",
    "        pivot = list[0]\n",
    "        for i in list:\n",
    "            # 将比基准小的值放到less数列\n",
    "            if i < pivot:\n",
    "                less.append(i)\n",
    "            # 将比基准打的值放到more数列\n",
    "            elif i > pivot:\n",
    "                more.append(i)\n",
    "            # 将和基准相同的值保存在基准数列\n",
    "            else:\n",
    "                pivotList.append(i)\n",
    "        # 对less数列和more数列继续进行排序\n",
    "        less = quick_sort(less)\n",
    "        more = quick_sort(more)\n",
    "        return less + pivotList + more\n",
    "    \n",
    "quick_sort(random_list)\n",
    "print(quick_sort(random_list))"
   ]
  }
 ],
 "metadata": {
  "kernelspec": {
   "display_name": "Python 3",
   "language": "python",
   "name": "python3"
  },
  "language_info": {
   "codemirror_mode": {
    "name": "ipython",
    "version": 3
   },
   "file_extension": ".py",
   "mimetype": "text/x-python",
   "name": "python",
   "nbconvert_exporter": "python",
   "pygments_lexer": "ipython3",
   "version": "3.6.4"
  }
 },
 "nbformat": 4,
 "nbformat_minor": 2
}
