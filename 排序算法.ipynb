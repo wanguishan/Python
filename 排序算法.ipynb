{
 "cells": [
  {
   "cell_type": "code",
   "execution_count": 14,
   "metadata": {},
   "outputs": [],
   "source": [
    "class Sort():\n",
    "    \n",
    "    def BubbleSort(self, nums):\n",
    "        \"\"\"\n",
    "        冒泡排序：时间复杂度O(n^2)，空间复杂度O(1)，稳定\n",
    "        \"\"\"\n",
    "        for i in range(len(nums)):\n",
    "            for j in range(i, len(nums)):\n",
    "                if nums[i] > nums[j]:\n",
    "                    nums[i], nums[j] = nums[j], nums[i]\n",
    "        return nums\n",
    "    \n",
    "    def QuickSort(self, nums):\n",
    "        \"\"\"\n",
    "        快速排序：时间复杂度O(nlog2n)，空间复杂度O(log2n)，不稳定\n",
    "        \"\"\"\n",
    "        less = []\n",
    "        pivotList = []\n",
    "        more = []\n",
    "        if len(nums) <= 1:\n",
    "            return nums\n",
    "        \n",
    "        pivot = nums[0]\n",
    "        for i in nums:\n",
    "            if i < pivot:\n",
    "                less.append(i)\n",
    "            elif i > pivot:\n",
    "                more.append(i)\n",
    "            else:\n",
    "                pivotList.append(i)\n",
    "        less = self.QuickSort(less)\n",
    "        more = self.QuickSort(more)\n",
    "        return less + pivotList +more\n",
    "    \n",
    "    def MergeSort(self, nums):\n",
    "        \"\"\"\n",
    "        归并排序：时间复杂度O(nlog2n)，空间复杂度O(n)，稳定\n",
    "        \"\"\"\n",
    "        if len(nums) ==1:\n",
    "            return nums\n",
    "        mid = len(nums) // 2\n",
    "        left = nums[:mid]\n",
    "        right = nums[mid:]\n",
    "        left_1 = self.MergeSort(left)\n",
    "        right_1 = self.MergeSort(right)\n",
    "        return self.merge(left_1, right_1)     \n",
    "    def merge(self, left, right):\n",
    "        result = []\n",
    "        while len(left) > 0 and len(right) > 0:\n",
    "            if left[0] <= right[0]:\n",
    "                result.append(left.pop(0))\n",
    "            else:\n",
    "                result.append(right.pop(0))\n",
    "\n",
    "            result += left\n",
    "            result += right\n",
    "            return result\n",
    "        \n",
    "    def SelectSort(self, nums):\n",
    "        \"\"\"\n",
    "        直接选择排序：时间复杂度O(n*n)，空间复杂度O(1)，不稳定\n",
    "        \"\"\"            \n",
    "        for i in range(len(nums)):\n",
    "            min = i\n",
    "            for j in range(i+1, len(nums)):\n",
    "                if nums[min] > nums[j]:\n",
    "                    min = j\n",
    "            nums[min], nums[i] = nums[i], nums[min]\n",
    "        return nums\n",
    "        "
   ]
  },
  {
   "cell_type": "code",
   "execution_count": 16,
   "metadata": {},
   "outputs": [
    {
     "name": "stdout",
     "output_type": "stream",
     "text": [
      "排序之前:\n",
      " [83, 76, 99, 82, 30, 32, 27, 74, 99, 24]\n",
      "排序之后:\n",
      "冒泡排序: [24, 27, 30, 32, 74, 76, 82, 83, 99, 99]\n",
      "快速排序: [24, 27, 30, 32, 74, 76, 82, 83, 99, 99]\n",
      "归并排序: [24, 27, 30, 32, 74, 76, 82, 83, 99, 99]\n",
      "选择排序: [24, 27, 30, 32, 74, 76, 82, 83, 99, 99]\n"
     ]
    }
   ],
   "source": [
    "import random\n",
    "randomList = []\n",
    "for i in range(10):\n",
    "    randomList.append(random.randint(1,100))\n",
    "print('排序之前:\\n',randomList)\n",
    "print('排序之后:')\n",
    "print('冒泡排序:',Sort().BubbleSort(randomList))\n",
    "print('快速排序:',Sort().QuickSort(randomList))\n",
    "print('归并排序:',Sort().MergeSort(randomList))\n",
    "print('选择排序:',Sort().SelectSort(randomList))"
   ]
  },
  {
   "cell_type": "code",
   "execution_count": null,
   "metadata": {},
   "outputs": [],
   "source": []
  }
 ],
 "metadata": {
  "kernelspec": {
   "display_name": "Python 3",
   "language": "python",
   "name": "python3"
  },
  "language_info": {
   "codemirror_mode": {
    "name": "ipython",
    "version": 3
   },
   "file_extension": ".py",
   "mimetype": "text/x-python",
   "name": "python",
   "nbconvert_exporter": "python",
   "pygments_lexer": "ipython3",
   "version": "3.6.4"
  }
 },
 "nbformat": 4,
 "nbformat_minor": 2
}
