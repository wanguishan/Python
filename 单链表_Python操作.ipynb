{
 "cells": [
  {
   "cell_type": "code",
   "execution_count": 1,
   "metadata": {},
   "outputs": [],
   "source": [
    "class Node():    #初始化 构造函数\n",
    "    def  __init__(self, value, next=None):\n",
    "        self.value = value\n",
    "        self.next = next"
   ]
  },
  {
   "cell_type": "code",
   "execution_count": 2,
   "metadata": {},
   "outputs": [],
   "source": [
    "def creatList(n):\n",
    "    if n <= 0:\n",
    "        return False\n",
    "    if n == 1:\n",
    "        return Node(1)    #只有一个节点\n",
    "    else:\n",
    "        root = Node(1)\n",
    "        tmp = root\n",
    "        for i in range(2, n+1):    #一个一个的增加节点\n",
    "            tmp.next = Node(i)\n",
    "            tmp = tmp.next\n",
    "    return root                   #返回根节点\n",
    "\n",
    "def printList(head):         #打印链表\n",
    "    p = head\n",
    "    while p != None:\n",
    "        print(p.value)\n",
    "        p = p.next\n",
    "        \n",
    "def listlen(head):       # 链表长度\n",
    "    c=0\n",
    "    p=head\n",
    "    while p!=None:\n",
    "        c=c+1\n",
    "        p=p.next\n",
    "    return c\n",
    " \n",
    "def insert(head,n):         # 在n的前面插入元素\n",
    "    if n<1 or n>listlen(head):\n",
    "        return    \n",
    "    p =head\n",
    "    for i in range(1,n-1):  # 循环四次到达 5\n",
    "        p=p.next\n",
    "    a=input(\"Enter a value:\")\n",
    "    t=Node(value=a)\n",
    "    t.next=p.next     # 这里注意\n",
    "    p.next=t\n",
    "    return head       # 把6放在t的后面 t放在原先p的后面\n",
    "\n",
    "def dellist(head,n):  # 删除链表\n",
    "    if n<1 or n>listlen(head):\n",
    "        return head\n",
    "    elif n is 1:\n",
    "        head=head.next   # 删除头\n",
    "    else:\n",
    "        p=head\n",
    "        for i in range(1,n-1):  \n",
    "            p=p.next     # 循环到达 2次 \n",
    "        q=p.next\n",
    "        p.next=q.next    # 把5放在3的后面\n",
    "    return head\n",
    "\n"
   ]
  },
  {
   "cell_type": "code",
   "execution_count": 5,
   "metadata": {},
   "outputs": [],
   "source": [
    "def main():\n",
    "    print (\"Create a linklist\")\n",
    "    head=creatList(7)\n",
    "    printList(head)\n",
    "    print (\"___________________________\")\n",
    " \n",
    "    n1=input(\"Enter the index to insert: \")\n",
    "    n1=int(n1)\n",
    "    insert(head,n1)\n",
    "    printList(head)\n",
    "    print (\"___________________________\")\n",
    "\n",
    "    n2=input(\"Enter the index to delete: \")\n",
    "    n2=int(n2)\n",
    "    dellist(head,n2)\n",
    "    printList(head)\n"
   ]
  },
  {
   "cell_type": "code",
   "execution_count": 6,
   "metadata": {},
   "outputs": [
    {
     "name": "stdout",
     "output_type": "stream",
     "text": [
      "Create a linklist\n",
      "1\n",
      "2\n",
      "3\n",
      "4\n",
      "5\n",
      "6\n",
      "7\n",
      "___________________________\n",
      "Enter the index to insert: 6\n",
      "Enter a value:99\n",
      "1\n",
      "2\n",
      "3\n",
      "4\n",
      "5\n",
      "99\n",
      "6\n",
      "7\n",
      "___________________________\n",
      "Enter the index to delete: 4\n",
      "1\n",
      "2\n",
      "3\n",
      "5\n",
      "99\n",
      "6\n",
      "7\n"
     ]
    }
   ],
   "source": [
    "if __name__=='__main__':  main()   # 主函数调用"
   ]
  },
  {
   "cell_type": "code",
   "execution_count": null,
   "metadata": {},
   "outputs": [],
   "source": []
  }
 ],
 "metadata": {
  "kernelspec": {
   "display_name": "Python 3",
   "language": "python",
   "name": "python3"
  },
  "language_info": {
   "codemirror_mode": {
    "name": "ipython",
    "version": 3
   },
   "file_extension": ".py",
   "mimetype": "text/x-python",
   "name": "python",
   "nbconvert_exporter": "python",
   "pygments_lexer": "ipython3",
   "version": "3.6.4"
  }
 },
 "nbformat": 4,
 "nbformat_minor": 2
}
