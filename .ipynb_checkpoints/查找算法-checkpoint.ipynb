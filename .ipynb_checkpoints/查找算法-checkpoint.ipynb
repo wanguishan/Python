{
 "cells": [
  {
   "cell_type": "code",
   "execution_count": 28,
   "metadata": {},
   "outputs": [],
   "source": [
    "def SequenceSearch(List, key):\n",
    "    \"\"\"\n",
    "    顺序查找：时间复杂度O(n)\n",
    "    \"\"\"\n",
    "    length = len(List)\n",
    "    for i in range(length):\n",
    "        if List[i] == key:\n",
    "            return i\n",
    "        \n",
    "def BinarySearch(List, key):\n",
    "    \"\"\"\n",
    "    二分查找：时间复杂度O(logn)\n",
    "    \"\"\"\n",
    "    low = 0\n",
    "    high = len(List) - 1\n",
    "    while low < high:\n",
    "        mid = (low+high) // 2\n",
    "        if List[mid] < key:\n",
    "            low = mid +1\n",
    "        elif List[mid] > key:\n",
    "            high = mid -1\n",
    "        else:\n",
    "            return mid\n"
   ]
  },
  {
   "cell_type": "code",
   "execution_count": 30,
   "metadata": {},
   "outputs": [
    {
     "name": "stdout",
     "output_type": "stream",
     "text": [
      "3\n",
      "7\n"
     ]
    }
   ],
   "source": [
    "if __name__ == '__main__':\n",
    "    array = [1, 5, 8, 123, 22, 54, 7, 99, 300, 222]\n",
    "    print(SequenceSearch(array, 123))\n",
    "    print(BinarySearch(array, 99))"
   ]
  },
  {
   "cell_type": "code",
   "execution_count": null,
   "metadata": {},
   "outputs": [],
   "source": []
  }
 ],
 "metadata": {
  "kernelspec": {
   "display_name": "Python 3",
   "language": "python",
   "name": "python3"
  },
  "language_info": {
   "codemirror_mode": {
    "name": "ipython",
    "version": 3
   },
   "file_extension": ".py",
   "mimetype": "text/x-python",
   "name": "python",
   "nbconvert_exporter": "python",
   "pygments_lexer": "ipython3",
   "version": "3.6.4"
  }
 },
 "nbformat": 4,
 "nbformat_minor": 2
}
